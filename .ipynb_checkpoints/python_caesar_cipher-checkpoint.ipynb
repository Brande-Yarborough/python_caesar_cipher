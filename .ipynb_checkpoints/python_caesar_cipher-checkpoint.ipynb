{
 "cells": [
  {
   "cell_type": "code",
   "execution_count": null,
   "id": "00ec9816",
   "metadata": {},
   "outputs": [],
   "source": [
    "import string\n",
    "\n",
    "# message = 'Python is Awesome'\n",
    "message = 'Hello World'\n",
    "shift = 3\n",
    "alphabet = string.ascii_lowercase\n",
    "# do i need uppercase here also?\n",
    "\n",
    "FIRST_CHAR_CODE = 65\n",
    "LAST_CHAR_CODE = 90\n",
    "CHAR_RANGE = 26\n",
    "\n",
    "\n",
    "def translate_message(message, shift):\n",
    "    # pass\n",
    "\n",
    "    result = \"\"\n",
    "\n",
    "    # iterate through each letter in message\n",
    "    for char in message.upper():\n",
    "        if char.isalpha():\n",
    "            # convert character to ascii code\n",
    "            # returns integer representing unicode char\n",
    "            char_code = ord(char)\n",
    "            new_char_code = char_code + shift\n",
    "\n",
    "            if new_char_code > LAST_CHAR_CODE:\n",
    "                new_char_code -= CHAR_RANGE\n",
    "                # converts integer to unicode char\n",
    "            new_char = chr(new_char_code)\n",
    "\n",
    "            # loop through empty result string and append new char\n",
    "            result += new_char\n",
    "        else:\n",
    "            result += char\n",
    "\n",
    "        # print(char, char_code, new_char_code, new_char)\n",
    "    print(result)\n",
    "\n",
    "\n",
    "translate_message('Hello World', 3)\n"
   ]
  }
 ],
 "metadata": {
  "kernelspec": {
   "display_name": "Python 3 (ipykernel)",
   "language": "python",
   "name": "python3"
  },
  "language_info": {
   "codemirror_mode": {
    "name": "ipython",
    "version": 3
   },
   "file_extension": ".py",
   "mimetype": "text/x-python",
   "name": "python",
   "nbconvert_exporter": "python",
   "pygments_lexer": "ipython3",
   "version": "3.9.6"
  }
 },
 "nbformat": 4,
 "nbformat_minor": 5
}
